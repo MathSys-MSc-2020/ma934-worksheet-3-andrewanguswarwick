{
 "cells": [
  {
   "cell_type": "markdown",
   "metadata": {},
   "source": [
    "# MA934  Numerical Methods - class worksheet 3 (not assessed)\n",
    "\n",
    "## Structural recursion and Gillespie algorithm\n",
    "\n",
    "You might need to install some packages the first time you run this notebook:"
   ]
  },
  {
   "cell_type": "code",
   "execution_count": 2,
   "metadata": {},
   "outputs": [],
   "source": [
    "# using Pkg\n",
    "# # Pkg.add(\"Plots\")\n",
    "# Pkg.add(\"PyPlot\")\n",
    "# Pkg.add(\"PyCall\")\n",
    "#Pkg.add(\"LaTeXStrings\")"
   ]
  },
  {
   "cell_type": "code",
   "execution_count": 3,
   "metadata": {},
   "outputs": [
    {
     "name": "stderr",
     "output_type": "stream",
     "text": [
      "┌ Info: Precompiling Plots [91a5bcdd-55d7-5caf-9e0b-520d859cae80]\n",
      "└ @ Base loading.jl:1278\n"
     ]
    },
    {
     "data": {
      "text/plain": [
       "Plots.PyPlotBackend()"
      ]
     },
     "execution_count": 3,
     "metadata": {},
     "output_type": "execute_result"
    }
   ],
   "source": [
    "using Revise\n",
    "using Plots\n",
    "pyplot()"
   ]
  },
  {
   "cell_type": "markdown",
   "metadata": {},
   "source": [
    "## Some background on how to use the sample code\n",
    "\n",
    "The custom module MA934.jl defines some useful data structures and some functions that operate on them. You should familiarise yourself with how Julia modules are structured and structure your own code accordingly.\n",
    "\n",
    "The composite type **KeyValuePair** defines a simple data structure to represent an (**Int64**, **Float64**) key-value pair. \n",
    "\n",
    "The recursive type **LinkedList** defines a linked list that stores a **KeyValuePair** at each node. \n",
    "\n",
    "The recursive type **FTree** defines a Fenwick tree that stores a **KeyValuePair** at each leaf node.\n",
    "\n",
    "Many languages have a keyword NULL which can be assigned to an object to indicate that it has not yet been initialised. Julia does not have this feature: accessing an object that has not yet been initialised throws an error. On the other hand, Julia does have a **Nothing** type which represents an object with no fields. This is not quite the same thing however: an object of type **LinkedList**, for example, cannot be assigned a value of type **Nothing**.\n",
    "\n",
    "Recursive data structures often use an uninitialised object to denote the end of a list, a leaf of a tree etc. This is a problem in Julia: if an object is uninitialised you cannot access it to check whether it is initialised without throwing an error. One work around for situations where a value x of type **T** exists only sometimes, the **Union{T, Nothing}** type can be used for function arguments, object fields and array element types. This approach is adopted in the MA934.jl module. More information can be found at https://docs.julialang.org/en/v1/manual/faq/#faq-nothing-1\n",
    "\n",
    "The function \n",
    "\n",
    "> MA934.buildlist(dataArray::Array{KeyValuePair, 1})\n",
    "\n",
    "takes an array of **KeyValuePair** objects as input and returns a **LinkedList** containing these **KeyValuePair**s. The following sample code illustrates how to use the **LinkedList** data type."
   ]
  },
  {
   "cell_type": "code",
   "execution_count": 31,
   "metadata": {},
   "outputs": [
    {
     "name": "stdout",
     "output_type": "stream",
     "text": [
      "LinkedList(KeyValuePair(1, 3.141592), nothing)\n",
      "LinkedList(KeyValuePair(1, 3.141592), LinkedList(KeyValuePair(2, 2.718281), nothing))\n",
      "LinkedList(KeyValuePair(3, 1.414213), LinkedList(KeyValuePair(1, 3.141592), LinkedList(KeyValuePair(2, 2.718281), nothing)))\n",
      "LinkedList(KeyValuePair(1, 0.07842256084294097), LinkedList(KeyValuePair(2, 0.5518627948390249), LinkedList(KeyValuePair(3, 0.6128499591256822), LinkedList(KeyValuePair(4, 0.6361756318248739), LinkedList(KeyValuePair(5, 0.14197873689543572), nothing)))))\n"
     ]
    }
   ],
   "source": [
    "using Random\n",
    "# To use custom modules, we need to tell Julia where to find the source files. In this case, they are in\n",
    "# the current working directory:\n",
    "push!(LOAD_PATH, pwd())\n",
    "using StructuralRecursion\n",
    "\n",
    "# Create some key-value pairs. The KeyValuePair data type is a struct. Instances of\n",
    "# structs in Julia can be created by assigning values to their fields as follows:\n",
    "k1 = StructuralRecursion.KeyValuePair(1,3.141592)\n",
    "k2 = StructuralRecursion.KeyValuePair(2,2.718281)\n",
    "# The prefix MA934 indicates that the data type KeyValuePair is defined in the module MA934. This\n",
    "# is not necessary however because the module file MA934.jl \"exports\" the definition. Hence we can\n",
    "# also write:\n",
    "k3 = KeyValuePair(3,1.414213)\n",
    "\n",
    "# The LinkedList data type is also a struct. We can create a new instance\n",
    "# simply by assigning appropriate values to its fields as for any\n",
    "# other struct:\n",
    "L1 = LinkedList(k1, Nothing())\n",
    "println(L1)\n",
    "\n",
    "# Key-value pairs can be appended to the list:\n",
    "L1 = StructuralRecursion.append(L1, k2)\n",
    "println(L1)\n",
    "\n",
    "# Key-value pairs can also be prepended to the list:\n",
    "L1 = StructuralRecursion.prepend(L1, k3)\n",
    "println(L1)\n",
    "\n",
    "# We can also create a list using the build function by passing it an array of key-value pairs:\n",
    "# First we need to create an array. We will use a random number generator to generate random values.\n",
    "\n",
    "# The random number generator is initialised with a seed - 1234 in this case. A random number generator\n",
    "# initialised with the same seed will always produced exactly the same sequence of numbers\n",
    "rng = MersenneTwister(1234);\n",
    "# If you want to generate a different sequence of random numbers every time initialise the random number\n",
    "# generator this way:\n",
    "rng = RandomDevice()\n",
    "# Length of array:\n",
    "n=5\n",
    "# Generate some random numbers\n",
    "X = rand(rng, n)\n",
    "# Define a one dimensional array of uninitialised (the undef keyword) KeyValuePair objects of length n\n",
    "kv = Array{KeyValuePair, 1}(undef, n)\n",
    "# Now assign the entries of the array by creating the required key-value pairs\n",
    "for i in 1:n\n",
    "    kv[i] = KeyValuePair(i,X[i])\n",
    "end\n",
    "\n",
    "# Now we can create a new list by passing the array kv to the build function:\n",
    "L2 = StructuralRecursion.buildlist(kv)\n",
    "println(L2)"
   ]
  },
  {
   "cell_type": "markdown",
   "metadata": {},
   "source": [
    "## Question 1: Linear search using a linked list\n",
    "\n",
    "Now finally some work for you to do:\n",
    "\n",
    "1. Write a *recursive* function <br><br>\n",
    "selectiveprint( L::Union{LinkedList, Nothing}, v::Float64 )<br><br>\n",
    "that traverses the list L and prints any key-value pairs stored in L having a value greater than v. Check that your function works.\n",
    "2. Write a function search(list::**LinkedList**}, k::**Int64**) that searches a **LinkedList** object for the key k and returns the corresponding **KeyValuePair** if it is present and **Nothing** otherwise. Verify that your function works.\n",
    "3. Use BenchmarkTools.jl to measure how the typical computational cost of your search() function grows with the length of the list. "
   ]
  },
  {
   "cell_type": "code",
   "execution_count": 32,
   "metadata": {},
   "outputs": [
    {
     "name": "stdout",
     "output_type": "stream",
     "text": [
      "KeyValuePair(2, 0.5518627948390249)\n",
      "KeyValuePair(3, 0.6128499591256822)\n",
      "KeyValuePair(4, 0.6361756318248739)\n"
     ]
    }
   ],
   "source": [
    "v = 0.5\n",
    "selectiveprint(L2,v)"
   ]
  },
  {
   "cell_type": "code",
   "execution_count": 33,
   "metadata": {},
   "outputs": [
    {
     "name": "stdout",
     "output_type": "stream",
     "text": [
      "KeyValuePair(3, 0.6128499591256822)\n",
      "Nothing\n"
     ]
    }
   ],
   "source": [
    "k = 3; ks1 = search(L2,k)\n",
    "k = 6; ks2 = search(L2,k)\n",
    "println(ks1); println(ks2)"
   ]
  },
  {
   "cell_type": "code",
   "execution_count": 35,
   "metadata": {},
   "outputs": [
    {
     "data": {
      "image/png": "[encoded data removed]"
     },
     "execution_count": 35,
     "metadata": {},
     "output_type": "execute_result"
    }
   ],
   "source": [
    "using BenchmarkTools\n",
    "\n",
    "jmax = 5\n",
    "jrange = 1:jmax\n",
    "nvals = 2 .^ jrange\n",
    "times = zeros(jmax)\n",
    "for j in jrange\n",
    "  X = rand(rng, nvals[j])\n",
    "  kv = Array{KeyValuePair, 1}(undef, nvals[j])\n",
    "  for i in 1:nvals[j]\n",
    "    kv[i] = KeyValuePair(i,X[i])\n",
    "  end\n",
    "  L = StructuralRecursion.buildlist(kv)\n",
    "  times[j] = median((@benchmark search($L,$(nvals[j]÷2))).times)\n",
    "end\n",
    "\n",
    "plot(nvals,times,xlabel=\"Length\",ylabel=\"Time [ns]\",label=\"Time scaling\")"
   ]
  },
  {
   "cell_type": "markdown",
   "metadata": {},
   "source": [
    "## Question 2: Interval membership\n",
    "\n",
    "The problem of interval membership is the following: given a set of contiguous intervals, \n",
    "\n",
    "$\\left\\{[x_0, x_1), [x_1, x_2), \\ldots, [x_{n-2}, x_{n-1}), [x_{n-1}, x_n)\\right\\}$\n",
    "\n",
    "spanning the interval $[x_1, x_n)$ and given a random number $x \\in [x_1, x_n)$, determine the interval in which $x$ lies. The standard numerical algorithm for stochastic simulation of continuous-time Markov processes (eg birth-death process, contact process, SIR model etc) requires solving an interval membership problem at each time step. It is therefore important to be able to solve it efficiently. Note, we cannot assume that all intervals are the same length.\n",
    "\n",
    "We can solve the interval membership problem with $n$ intervals by a variant of linear search in $O(n)$ time. \n",
    "\n",
    "**1)** Use Julia's random number generator to generate $n$ random interval lengths, $y_1, y_2, \\ldots, y_n$ between 0 and 1. \n",
    "The corresponding interval membership problem is constructed from the partial sums:\n",
    "$$x_i = \\sum_{j=1}^i y_j, \\ \\ \\ \\ \\ i=1,2,\\ldots n.$$ \n",
    "Using the **KeyValuePair** and **LinkedList** objects defined in MA934.jl, create an array of key-value pairs, $(i, x_i)$, associating each interval with the corresponding partial sum and store this array in a linked list. Print the list for a small value of $n$ to verify that it works.\n",
    "\n",
    "**2)** Modify the search function you wrote above to write a recursive function <br><br>\n",
    "intervalmembership( L::Union{LinkedList, Nothing}, , x::Float64)<br><br>\n",
    "that takes the **LinkedList**, L, containing the list of partial sums and a random **Float64** in the range $[0, x_n]$ as inputs and returns the **KeyValuePair** corresponding to the interval in which $x$ lies. Verify that it works for small values of $n$ and use BenchmarkTools.jl to measure how the typical computational cost grows with $n$. \n",
    "\n",
    "**3)** The file FenwickTree.jl defines a data structure implementing a variant of a Fenwick tree that can solve the interval membership problem as described in the lectures/notes. The function <br><br> \n",
    "buildFTree( dataArray::Array{KeyValuePair, 1} )<br><br>\n",
    "takes the array of **KeyValuePair**s containing the *interval lengths* (**not** the partial sums) as input, recursively constructs the tree and returns the **FenwickTree** containing the correct key-value pairs (note a key of -1 is assigned to all non-leaf nodes). Here is an example:"
   ]
  },
  {
   "cell_type": "code",
   "execution_count": null,
   "metadata": {},
   "outputs": [],
   "source": [
    "n = 5\n",
    "y = rand(rng,n)\n",
    "kv = Array{KeyValuePair, 1}(undef, n)\n",
    "for i in 1:n\n",
    "    \n",
    "    kv[i] = KeyValuePair(i,X[i])\n",
    "end"
   ]
  },
  {
   "cell_type": "code",
   "execution_count": 36,
   "metadata": {},
   "outputs": [
    {
     "data": {
      "text/plain": [
       "FenwickTree(KeyValuePair(-1, 2.0212896835279577), FenwickTree(KeyValuePair(-1, 0.6302853556819659), FenwickTree(KeyValuePair(1, 0.07842256084294097), nothing, nothing), FenwickTree(KeyValuePair(2, 0.5518627948390249), nothing, nothing)), FenwickTree(KeyValuePair(-1, 1.3910043278459918), FenwickTree(KeyValuePair(3, 0.6128499591256822), nothing, nothing), FenwickTree(KeyValuePair(-1, 0.7781543687203096), FenwickTree(KeyValuePair(4, 0.6361756318248739), nothing, nothing), FenwickTree(KeyValuePair(5, 0.14197873689543572), nothing, nothing))))"
      ]
     },
     "execution_count": 36,
     "metadata": {},
     "output_type": "execute_result"
    }
   ],
   "source": [
    "T = buildFTree(kv)"
   ]
  },
  {
   "cell_type": "markdown",
   "metadata": {},
   "source": [
    "Write a recursive function<br><br>\n",
    "intervalmembership(T::Union{FenwickTree, Nothing}, x::Float64)<br><br>\n",
    "that takes the **FenwickTree** containing the list of partial sums and a random Float64 in the range $[0, x_n]$ as \n",
    "inputs and returns the **KeyValueVPair** corresponding to the interval in which $x$ lies. Verify that it works for small values of $n$ and use the BenchmarkTools macros to compare how the typical computational compares to the above linear search version. Note it can sometimes be difficult to directly measure $O(\\log\\, n)$ growth in computation time since the problem size needs to become very large to register appreciable run times."
   ]
  },
  {
   "cell_type": "code",
   "execution_count": null,
   "metadata": {},
   "outputs": [],
   "source": []
  },
  {
   "cell_type": "markdown",
   "metadata": {},
   "source": [
    "## Question 3: Gillespie algorithm for heterogeneous diffusion\n",
    "\n",
    "The Gillespie algorithm is a dynamic Monte Carlo algorithm that generates statistically correct realisations of a continous time Markov process. See https://en.wikipedia.org/wiki/Gillespie_algorithm It is used heavily in stochastic simulation of chemical and biological reaction networks and population dynamics. In this question we use it to simulate one-dimensional diffusion of heterogeneous particles whose diffusion constants are independently drawn from an exponential distribution.\n",
    "\n",
    "The basic idea of the algorithm is as follows\n",
    "1. Create a list $\\left\\{(i, r_i), i=1,\\ldots M\\right\\}$,  of all possible transitions (events), $i$, that can occur in the system and the corresponding transition rates, $r_i$.\n",
    "2. Calculate the total rate\n",
    "$$R = \\sum_{i=1}^M r_i$$\n",
    "and divide the interval $[0, R]$ into $M$ intervals whose lengths are given by the $r_i$.\n",
    "3. Generate a uniform random number in the range $[0,R]$ and determine which interval it falls in. \n",
    "4. Perform the corresponding transition and update the time variable by an amount $\\Delta t = 1/R$.\n",
    "5. Repeat until the desired simulation time is reached.\n",
    "\n",
    "To be concrete, suppose with have $N$ particles on the interval $[-L, L]$ initially located at $x=0$. Each particle can hop a distance $\\Delta x$ to the left or to the right with equal probability. The rate of hopping is initially considered to be the same for all particles:\n",
    "\n",
    "$$ r_i = \\frac{D}{2}\\,\\frac{1}{(\\Delta x)^2} $$\n",
    "\n",
    "This choice ensures that in the continous limit ($\\Delta x \\to 0$, $N\\to \\infty$), the density of particles $c(x,t)$ on the line will satisfy the usual diffusion equation with diffusion coefficient $D$ (recall MA933):\n",
    "\n",
    "$$ \\frac{\\partial c}{\\partial t} = D \\frac{\\partial^2 c}{\\partial x^2}$$\n",
    "\n",
    "with initial condition $c(x,0) = \\delta(x)$.\n",
    "\n",
    "The steps of the algorithm then correspond to the following:\n",
    "1. There are $M= 2 N$ possible transitions at each step: each of $N$ particles can hop a distance $\\Delta x$ either left or right with the above rates. We index them as follows: events k=1:N correspond to particle k hopping to the right, events k=N+1:2N correspond to particle k-N hopping to the left.\n",
    "2. The total rate is \n",
    "$$ R = \\frac{D N}{(\\Delta x)^2}.$$\n",
    "3. Generate a uniform random number in the range $[0,R]$ and determine the index $k$ of particle to move and the direction.\n",
    "4. Update the position of particle $k$ accordingly.\n",
    "5. Repeat.\n",
    "\n",
    "The following piece of code implements the Gillespie algorithm for N=100, L=10, $\\Delta x = 0.1$ and $D=1$, converts the particle positions to particle density and compares to the solution of the diffusion equation on an unbounded domain at t=1 (we assume that L=10 is far enough from zero to be considered unbounded):\n",
    "\n",
    "$$c(x, t) = \\frac{1}{\\sqrt{2 \\pi D t}}\\, \\exp [-\\frac{1}{2}\\frac{x^2}{D t} ]$$"
   ]
  },
  {
   "cell_type": "code",
   "execution_count": null,
   "metadata": {},
   "outputs": [],
   "source": [
    "L=10.0\n",
    "N=100\n",
    "Nx = 201\n",
    "dx = 2.0*L/(Nx-1)\n",
    "X = dx.*(-(Nx-1)/2:(Nx-1)/2)\n",
    "Y =zeros(Int64,N)\n",
    "D = 1.0\n",
    "t=0.0\n",
    "\n",
    "\n",
    "r = (D/2.0)/(dx*dx)\n",
    "totalRate = 2.0*N*r\n",
    "dt = 1.0/totalRate\n",
    "T=1.0\n",
    "\n",
    "# This is the main loop\n",
    "while t < T\n",
    "    # Pick an event\n",
    "    k = rand(1:2*N)\n",
    "    if k<=N\n",
    "        hop = 1\n",
    "        particleId = k\n",
    "    else\n",
    "        hop = -1\n",
    "        particleId=k-N\n",
    "    end\n",
    "    Y[particleId]+=hop\n",
    "    t+=dt\n",
    "end\n",
    "\n",
    "# Calculate the estimated density of particles\n",
    "P =zeros(Float64,length(X))\n",
    "for i in 1:length(Y)\n",
    "    P[Y[i]+Int64((Nx-1)/2)+1]+=1/(N * dx)\n",
    "end\n",
    "\n",
    "# Calculate the theoretical density and compare\n",
    "function normal(x, D, t)\n",
    "    return (1.0/sqrt(2.0*pi*D*t))*exp(-x*x/(2*D*t))\n",
    "end\n",
    "P1 = normal.(X, D, T)\n",
    "plot(X, P1, label=\"Analytic solution of diffusion equation\")\n",
    "plot!(X, P, label=\"Numerical estimate of particle density\")\n",
    "xlabel!(\"x\")\n",
    "ylabel!(\"Particle density, c(x,t)\")\n",
    "title!(\"Stochastic simulation of simple diffusion in 1-D\")"
   ]
  },
  {
   "cell_type": "markdown",
   "metadata": {},
   "source": [
    "**1)** The code above makes critical use of the fact that all intervals have the same width in order to decide which particle to move at each step. Suppose now that instead of being equal to $D$ for each particle, the diffusion coefficients are drawn from an exponential distribution with mean $D$:\n",
    "\n",
    "$$ P(x) = \\frac{1}{D} \\exp\\left(-\\frac{x}{D}\\right). $$\n",
    "\n",
    "Modify the code to account for this, using your code from Q2 above to solve the interval membership problem using linear search. You will need to use Julia's randexp() function to generate values for the diffusion coefficients. What is the largest value of $N$ you can simulate in a \"reasonable\" time?\n",
    "\n",
    "**2)** Try again using your Fenwick tree from Q2 to solve the interval membership problem and compare. What is the largest value of $N$ you can simulate now?\n",
    "\n",
    "**3)** Show analytically that the solution of the heterogenous diffusion problem is\n",
    "\n",
    "$$ c(x,t) = \\frac{\\exp \\left(-\\sqrt{\\frac{2}{D\\,t}}\\, |x| \\right)}{\\sqrt{2\\, D\\, t}}$$\n",
    "\n",
    "You will probably need the integral formula (Formula 3.325 of Gradshteyn and Rizhik, 7th Ed.)\n",
    "\n",
    "$$ \\int_0^\\infty \\exp\\left(-a\\,x^2 - \\frac{b}{x^2} \\right)\\, dx =  \\frac{1}{2}\\,\\sqrt{\\frac{\\pi}{a}}\\,\\exp\\left(-2 \\sqrt{a\\,b} \\right).$$\n",
    "Use this formula to validate your numerical results.\n",
    "\n"
   ]
  }
 ],
 "metadata": {
  "kernelspec": {
   "display_name": "Julia 1.5.2",
   "language": "julia",
   "name": "julia-1.5"
  },
  "language_info": {
   "file_extension": ".jl",
   "mimetype": "application/julia",
   "name": "julia",
   "version": "1.5.2"
  }
 },
 "nbformat": 4,
 "nbformat_minor": 1
}
